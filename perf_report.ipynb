{
 "cells": [
  {
   "cell_type": "code",
   "execution_count": 1,
   "metadata": {},
   "outputs": [],
   "source": [
    "import json\n",
    "import os, glob\n",
    "import pandas as pd\n",
    "import pandas.io.json as pdjson\n",
    "import seaborn as sns\n",
    "import itertools"
   ]
  },
  {
   "cell_type": "markdown",
   "metadata": {},
   "source": [
    "## Importing data\n",
    "\n",
    "The `traces/` directory contains `sandmark` runs on three compiler branches.\n",
    "The `trunk` branch will checkout OCaml at the branching point on which the `ctf` branch is based.\n",
    "\n",
    "```shell\n",
    "https://github.com/Engil/ocaml/tarball/ba90da42ac4521fa727c2edc55b2085c9aa29712\n",
    "```\n",
    "\n",
    "The `ctf` branch is the main implementation for the tracing system, and the `ctf_off` branch is the same branch, albeit with tracing disabled in all cases, but still compiled with support in.\n",
    "\n",
    "We now load these traces:\n"
   ]
  },
  {
   "cell_type": "code",
   "execution_count": 5,
   "metadata": {},
   "outputs": [],
   "source": [
    "data_frames = []\n",
    "\n",
    "for file in glob.glob(\"perf_report/*.bench\"):\n",
    "    with open(file) as bench_file:\n",
    "        cur_record = bench_file.readline()\n",
    "        while cur_record:\n",
    "            data = json.loads(cur_record)\n",
    "            df = pdjson.json_normalize(data)\n",
    "            df['variant'] = file.replace(\".bench\",\"\").replace(\"perf_report/\", \"\")\n",
    "            data_frames.append(df)\n",
    "            cur_record = bench_file.readline()\n",
    "\n",
    "df = pd.concat(data_frames)"
   ]
  },
  {
   "cell_type": "markdown",
   "metadata": {},
   "source": [
    "## Comparing the difference between two branches\n",
    "\n",
    "We define here a few functions we'll use to get relevant data on performance regressions in our branches."
   ]
  },
  {
   "cell_type": "code",
   "execution_count": 6,
   "metadata": {},
   "outputs": [],
   "source": [
    "\n",
    "def compute_differences(variants, using='time_secs'):\n",
    "    variants_filter = df['variant'].isin(variants)\n",
    "    filtered = df[variants_filter]\n",
    "    top = filtered.groupby(['name','variant']).aggregate({'time_secs': 'sum'}).groupby('name').pct_change()\n",
    "    top = top.sort_values(by=\"time_secs\", ascending=False)\n",
    "    return top"
   ]
  },
  {
   "cell_type": "markdown",
   "metadata": {},
   "source": [
    "The return data can then be sorted.\n",
    "\n",
    "This implementation is a bit hacky but the way to understand it is:\n",
    "`time_secs` now contains the difference (as with `pandas`'s `pct_change`) between the sum of the running time for the variant `b` compared to the running time to the previous variant `a` in the `variants` argument as passed to the `compute_differences` function.\n",
    "\n",
    "As such, the first variant's `time_secs` values in the list will be `NaN` because there was no previous branch.\n",
    "However sorting these with `sort_values` places these at the very bottom of the list, we could truncate is as well.\n",
    "\n",
    "Comparing the `ctf` and `trunk` branch:"
   ]
  },
  {
   "cell_type": "code",
   "execution_count": 7,
   "metadata": {},
   "outputs": [
    {
     "data": {
      "text/html": [
       "<div>\n",
       "<style scoped>\n",
       "    .dataframe tbody tr th:only-of-type {\n",
       "        vertical-align: middle;\n",
       "    }\n",
       "\n",
       "    .dataframe tbody tr th {\n",
       "        vertical-align: top;\n",
       "    }\n",
       "\n",
       "    .dataframe thead th {\n",
       "        text-align: right;\n",
       "    }\n",
       "</style>\n",
       "<table border=\"1\" class=\"dataframe\">\n",
       "  <thead>\n",
       "    <tr style=\"text-align: right;\">\n",
       "      <th></th>\n",
       "      <th>time_secs</th>\n",
       "    </tr>\n",
       "  </thead>\n",
       "  <tbody>\n",
       "    <tr>\n",
       "      <td>0.10</td>\n",
       "      <td>-0.071383</td>\n",
       "    </tr>\n",
       "    <tr>\n",
       "      <td>0.25</td>\n",
       "      <td>-0.034923</td>\n",
       "    </tr>\n",
       "    <tr>\n",
       "      <td>0.50</td>\n",
       "      <td>-0.007854</td>\n",
       "    </tr>\n",
       "    <tr>\n",
       "      <td>0.75</td>\n",
       "      <td>0.000352</td>\n",
       "    </tr>\n",
       "    <tr>\n",
       "      <td>0.95</td>\n",
       "      <td>0.066441</td>\n",
       "    </tr>\n",
       "    <tr>\n",
       "      <td>0.99</td>\n",
       "      <td>0.122601</td>\n",
       "    </tr>\n",
       "  </tbody>\n",
       "</table>\n",
       "</div>"
      ],
      "text/plain": [
       "      time_secs\n",
       "0.10  -0.071383\n",
       "0.25  -0.034923\n",
       "0.50  -0.007854\n",
       "0.75   0.000352\n",
       "0.95   0.066441\n",
       "0.99   0.122601"
      ]
     },
     "execution_count": 7,
     "metadata": {},
     "output_type": "execute_result"
    }
   ],
   "source": [
    "data = compute_differences([\"4.10.0+trunk\",\"4.10.0+ctf\"])\n",
    "data = data[data[\"time_secs\"].notna()] # filtering out NaN time_secs, from the base variant\n",
    "\n",
    "data.quantile([.1, .25, .50, .75, .95, .99])"
   ]
  },
  {
   "cell_type": "markdown",
   "metadata": {},
   "source": [
    "Above we check the percentiles for the percentage change between the `trunk` and `ctf` branch.\n",
    "We can see that these values are for the `trunk` branch compared to the `ctf` branch."
   ]
  },
  {
   "cell_type": "code",
   "execution_count": 8,
   "metadata": {},
   "outputs": [
    {
     "data": {
      "text/html": [
       "<div>\n",
       "<style scoped>\n",
       "    .dataframe tbody tr th:only-of-type {\n",
       "        vertical-align: middle;\n",
       "    }\n",
       "\n",
       "    .dataframe tbody tr th {\n",
       "        vertical-align: top;\n",
       "    }\n",
       "\n",
       "    .dataframe thead th {\n",
       "        text-align: right;\n",
       "    }\n",
       "</style>\n",
       "<table border=\"1\" class=\"dataframe\">\n",
       "  <thead>\n",
       "    <tr style=\"text-align: right;\">\n",
       "      <th></th>\n",
       "      <th></th>\n",
       "      <th>time_secs</th>\n",
       "    </tr>\n",
       "    <tr>\n",
       "      <th>name</th>\n",
       "      <th>variant</th>\n",
       "      <th></th>\n",
       "    </tr>\n",
       "  </thead>\n",
       "  <tbody>\n",
       "    <tr>\n",
       "      <td>array_bench.array_forall_1000_100000</td>\n",
       "      <td>4.10.0+trunk</td>\n",
       "      <td>0.165127</td>\n",
       "    </tr>\n",
       "  </tbody>\n",
       "</table>\n",
       "</div>"
      ],
      "text/plain": [
       "                                                   time_secs\n",
       "name                                 variant                \n",
       "array_bench.array_forall_1000_100000 4.10.0+trunk   0.165127"
      ]
     },
     "execution_count": 8,
     "metadata": {},
     "output_type": "execute_result"
    }
   ],
   "source": [
    "data.head(1)"
   ]
  },
  {
   "cell_type": "markdown",
   "metadata": {},
   "source": [
    "In this case, the `trunk` branch executed 16% slower than the `ctf` branch.\n",
    "As such, 10th percentile shows that `trunk` is 7% faster, 25th is 3% faster and so on. 99th percentile is 12% slower than the `ctf` branch.\n",
    "\n",
    "Let's investigate the worst offenders, as `trunk` should not be expected to be slower than `ctf`."
   ]
  },
  {
   "cell_type": "code",
   "execution_count": 9,
   "metadata": {},
   "outputs": [
    {
     "data": {
      "text/plain": [
       "<seaborn.axisgrid.FacetGrid at 0x7f6d45500940>"
      ]
     },
     "execution_count": 9,
     "metadata": {},
     "output_type": "execute_result"
    },
    {
     "data": {
      "image/png": "[encoded data removed]",
      "text/plain": [
       "<Figure size 1547.25x360 with 1 Axes>"
      ]
     },
     "metadata": {
      "needs_background": "light"
     },
     "output_type": "display_data"
    }
   ],
   "source": [
    "top = data.head(10)\n",
    "benchmarks = [item for (item, _) in top.index]\n",
    "res = df.loc[df['name'].isin(benchmarks)]\n",
    "g = sns.catplot (x='name', y='time_secs', hue='variant', data = res, kind ='bar', aspect=4)\n",
    "g.set_xticklabels(rotation=90)"
   ]
  },
  {
   "cell_type": "markdown",
   "metadata": {},
   "source": [
    "\n",
    "This results are weird because `trunk` shouldn't actually be any slower than the `ctf` branch.\n",
    "We may give a try at ruling out proeminent noise from these results by checking how these binaries behave under `perf`.\n",
    "We then have a proper basis to handcheck peculiar results.\n",
    "\n",
    "`array_bench.array_forall_1000_100000` seems like a top contender for this check:\n",
    "\n",
    "We run the same binary through `perf stat -d`:\n",
    "\n",
    "```shell\n",
    "# All of this was run on bench2 with the same binaries used in the sandmark runs above\n",
    "# Everything was pinned to CPU 3, and with --addr-no-randomize\n",
    "\n",
    "# ctf branch\n",
    "\n",
    "$ env OCAML_EVENTLOG_ENABLED=1 perf stat -d ./array_bench.exe forall 1000 100000\n",
    "\n",
    " Performance counter stats for './array_bench.exe forall 1000 100000':\n",
    "\n",
    "          0.816574      task-clock (msec)         #    0.778 CPUs utilized          \n",
    "                 0      context-switches          #    0.000 K/sec                  \n",
    "                 0      cpu-migrations            #    0.000 K/sec                  \n",
    "               107      page-faults               #    0.131 M/sec                  \n",
    "           1947603      cycles                    #    2.385 GHz                    \n",
    "           1335864      stalled-cycles-frontend   #   68.59% frontend cycles idle   \n",
    "           1293987      instructions              #    0.66  insn per cycle         \n",
    "                                                  #    1.03  stalled cycles per insn\n",
    "            244037      branches                  #  298.855 M/sec                  \n",
    "             11847      branch-misses             #    4.85% of all branches        \n",
    "            367375      L1-dcache-loads           #  449.898 M/sec                  \n",
    "             28742      L1-dcache-load-misses     #    7.82% of all L1-dcache hits  \n",
    "             12192      LLC-loads                 #   14.931 M/sec                  \n",
    "              3129      LLC-load-misses           #   25.66% of all LL-cache hits   \n",
    "\n",
    "       0.001049439 seconds time elapsed\n",
    "\n",
    "# trunk branch\n",
    "\n",
    "$ perf stat -d ./array_bench.exe forall 1000 100000\n",
    "\n",
    " Performance counter stats for './array_bench.exe forall 1000 100000':\n",
    "\n",
    "          0.728248      task-clock (msec)         #    0.755 CPUs utilized          \n",
    "                 0      context-switches          #    0.000 K/sec                  \n",
    "                 0      cpu-migrations            #    0.000 K/sec                  \n",
    "               101      page-faults               #    0.139 M/sec                  \n",
    "           1735806      cycles                    #    2.384 GHz                    \n",
    "           1159280      stalled-cycles-frontend   #   66.79% frontend cycles idle   \n",
    "           1223196      instructions              #    0.70  insn per cycle         \n",
    "                                                  #    0.95  stalled cycles per insn\n",
    "            229812      branches                  #  315.568 M/sec                  \n",
    "             10787      branch-misses             #    4.69% of all branches        \n",
    "            341664      L1-dcache-loads           #  469.159 M/sec                  \n",
    "             26895      L1-dcache-load-misses     #    7.87% of all L1-dcache hits  \n",
    "             10891      LLC-loads                 #   14.955 M/sec                  \n",
    "              2973      LLC-load-misses           #   27.30% of all LL-cache hits   \n",
    "\n",
    "       0.000964800 seconds time elapsed\n",
    "\n",
    "# ctf_off branch\n",
    "\n",
    "$ perf stat -d ./array_bench.exe forall 1000 100000\n",
    "\n",
    " Performance counter stats for './array_bench.exe forall 1000 100000':\n",
    "\n",
    "          0.736076      task-clock (msec)         #    0.759 CPUs utilized          \n",
    "                 0      context-switches          #    0.000 K/sec                  \n",
    "                 0      cpu-migrations            #    0.000 K/sec                  \n",
    "               102      page-faults               #    0.139 M/sec                  \n",
    "           1754579      cycles                    #    2.384 GHz                    \n",
    "           1179469      stalled-cycles-frontend   #   67.22% frontend cycles idle   \n",
    "           1217763      instructions              #    0.69  insn per cycle         \n",
    "                                                  #    0.97  stalled cycles per insn\n",
    "            229479      branches                  #  311.760 M/sec                  \n",
    "             10745      branch-misses             #    4.68% of all branches        \n",
    "            344388      L1-dcache-loads           #  467.870 M/sec                  \n",
    "             27457      L1-dcache-load-misses     #    7.97% of all L1-dcache hits  \n",
    "             11084      LLC-loads                 #   15.058 M/sec                  \n",
    "              2989      LLC-load-misses           #   26.97% of all LL-cache hits   \n",
    "\n",
    "       0.000969969 seconds time elapsed\n",
    "\n",
    "```\n",
    "\n",
    "We can get this results reliably over a few runs, so it appears that the sandmark numbers were a matter of noise and that the performance impact should actually be in the range of what is mostly observed in the rest of the bench suite.\n",
    "The same can be observed with the `ctf_off` branch, `trunk` being overall faster but with a much lesser overhead than with tracing enabled.\n"
   ]
  },
  {
   "cell_type": "markdown",
   "metadata": {},
   "source": [
    "We can now try to gather more numbers"
   ]
  },
  {
   "cell_type": "code",
   "execution_count": 10,
   "metadata": {},
   "outputs": [
    {
     "data": {
      "text/plain": [
       "time_secs   -0.0135\n",
       "dtype: float64"
      ]
     },
     "execution_count": 10,
     "metadata": {},
     "output_type": "execute_result"
    }
   ],
   "source": [
    "data.mean()"
   ]
  },
  {
   "cell_type": "markdown",
   "metadata": {},
   "source": [
    "The mean difference between `trunk` and `ctf` shows a 1.3% slowdown on the `ctf` branch with tracing enabled."
   ]
  },
  {
   "cell_type": "code",
   "execution_count": 11,
   "metadata": {},
   "outputs": [
    {
     "data": {
      "text/html": [
       "<div>\n",
       "<style scoped>\n",
       "    .dataframe tbody tr th:only-of-type {\n",
       "        vertical-align: middle;\n",
       "    }\n",
       "\n",
       "    .dataframe tbody tr th {\n",
       "        vertical-align: top;\n",
       "    }\n",
       "\n",
       "    .dataframe thead th {\n",
       "        text-align: right;\n",
       "    }\n",
       "</style>\n",
       "<table border=\"1\" class=\"dataframe\">\n",
       "  <thead>\n",
       "    <tr style=\"text-align: right;\">\n",
       "      <th></th>\n",
       "      <th>time_secs</th>\n",
       "    </tr>\n",
       "  </thead>\n",
       "  <tbody>\n",
       "    <tr>\n",
       "      <td>0.10</td>\n",
       "      <td>-0.042731</td>\n",
       "    </tr>\n",
       "    <tr>\n",
       "      <td>0.25</td>\n",
       "      <td>-0.007626</td>\n",
       "    </tr>\n",
       "    <tr>\n",
       "      <td>0.50</td>\n",
       "      <td>-0.000928</td>\n",
       "    </tr>\n",
       "    <tr>\n",
       "      <td>0.75</td>\n",
       "      <td>0.004861</td>\n",
       "    </tr>\n",
       "    <tr>\n",
       "      <td>0.95</td>\n",
       "      <td>0.065975</td>\n",
       "    </tr>\n",
       "    <tr>\n",
       "      <td>0.99</td>\n",
       "      <td>0.123290</td>\n",
       "    </tr>\n",
       "  </tbody>\n",
       "</table>\n",
       "</div>"
      ],
      "text/plain": [
       "      time_secs\n",
       "0.10  -0.042731\n",
       "0.25  -0.007626\n",
       "0.50  -0.000928\n",
       "0.75   0.004861\n",
       "0.95   0.065975\n",
       "0.99   0.123290"
      ]
     },
     "execution_count": 11,
     "metadata": {},
     "output_type": "execute_result"
    }
   ],
   "source": [
    "data = compute_differences([\"4.10.0+trunk\",\"4.10.0+ctf_off\"])\n",
    "data = data[data[\"time_secs\"].notna()]\n",
    "\n",
    "data.quantile([.1, .25, .50, .75, .95, .99])"
   ]
  },
  {
   "cell_type": "code",
   "execution_count": 12,
   "metadata": {},
   "outputs": [
    {
     "data": {
      "text/plain": [
       "time_secs   -0.00131\n",
       "dtype: float64"
      ]
     },
     "execution_count": 12,
     "metadata": {},
     "output_type": "execute_result"
    }
   ],
   "source": [
    "data.mean()"
   ]
  },
  {
   "cell_type": "markdown",
   "metadata": {},
   "source": [
    "Above are the result comparing `ctf_off` branch and `trunk`.\n",
    "Benchmark results shows very negligible performance hit on the `ctf_off` branch, 75th percentile is still below 0.5% slowdown."
   ]
  },
  {
   "cell_type": "code",
   "execution_count": 13,
   "metadata": {},
   "outputs": [
    {
     "data": {
      "text/html": [
       "<div>\n",
       "<style scoped>\n",
       "    .dataframe tbody tr th:only-of-type {\n",
       "        vertical-align: middle;\n",
       "    }\n",
       "\n",
       "    .dataframe tbody tr th {\n",
       "        vertical-align: top;\n",
       "    }\n",
       "\n",
       "    .dataframe thead th {\n",
       "        text-align: right;\n",
       "    }\n",
       "</style>\n",
       "<table border=\"1\" class=\"dataframe\">\n",
       "  <thead>\n",
       "    <tr style=\"text-align: right;\">\n",
       "      <th></th>\n",
       "      <th>time_secs</th>\n",
       "    </tr>\n",
       "  </thead>\n",
       "  <tbody>\n",
       "    <tr>\n",
       "      <td>0.10</td>\n",
       "      <td>-0.042015</td>\n",
       "    </tr>\n",
       "    <tr>\n",
       "      <td>0.25</td>\n",
       "      <td>-0.017671</td>\n",
       "    </tr>\n",
       "    <tr>\n",
       "      <td>0.50</td>\n",
       "      <td>-0.001685</td>\n",
       "    </tr>\n",
       "    <tr>\n",
       "      <td>0.75</td>\n",
       "      <td>-0.000027</td>\n",
       "    </tr>\n",
       "    <tr>\n",
       "      <td>0.95</td>\n",
       "      <td>0.006751</td>\n",
       "    </tr>\n",
       "    <tr>\n",
       "      <td>0.99</td>\n",
       "      <td>0.027362</td>\n",
       "    </tr>\n",
       "  </tbody>\n",
       "</table>\n",
       "</div>"
      ],
      "text/plain": [
       "      time_secs\n",
       "0.10  -0.042015\n",
       "0.25  -0.017671\n",
       "0.50  -0.001685\n",
       "0.75  -0.000027\n",
       "0.95   0.006751\n",
       "0.99   0.027362"
      ]
     },
     "execution_count": 13,
     "metadata": {},
     "output_type": "execute_result"
    }
   ],
   "source": [
    "data = compute_differences([\"4.10.0+ctf\",\"4.10.0+ctf_off\"])\n",
    "data = data[data[\"time_secs\"].notna()]\n",
    "\n",
    "data.quantile([.1, .25, .50, .75, .95, .99])"
   ]
  },
  {
   "cell_type": "code",
   "execution_count": 14,
   "metadata": {},
   "outputs": [
    {
     "data": {
      "text/plain": [
       "time_secs   -0.012059\n",
       "dtype: float64"
      ]
     },
     "execution_count": 14,
     "metadata": {},
     "output_type": "execute_result"
    }
   ],
   "source": [
    "data.mean()"
   ]
  },
  {
   "cell_type": "code",
   "execution_count": 15,
   "metadata": {},
   "outputs": [
    {
     "data": {
      "text/html": [
       "<div>\n",
       "<style scoped>\n",
       "    .dataframe tbody tr th:only-of-type {\n",
       "        vertical-align: middle;\n",
       "    }\n",
       "\n",
       "    .dataframe tbody tr th {\n",
       "        vertical-align: top;\n",
       "    }\n",
       "\n",
       "    .dataframe thead th {\n",
       "        text-align: right;\n",
       "    }\n",
       "</style>\n",
       "<table border=\"1\" class=\"dataframe\">\n",
       "  <thead>\n",
       "    <tr style=\"text-align: right;\">\n",
       "      <th></th>\n",
       "      <th></th>\n",
       "      <th>time_secs</th>\n",
       "    </tr>\n",
       "    <tr>\n",
       "      <th>name</th>\n",
       "      <th>variant</th>\n",
       "      <th></th>\n",
       "    </tr>\n",
       "  </thead>\n",
       "  <tbody>\n",
       "    <tr>\n",
       "      <td>big_array_bench.big_array_int32_rev_1024_50000</td>\n",
       "      <td>4.10.0+ctf_off</td>\n",
       "      <td>0.116804</td>\n",
       "    </tr>\n",
       "    <tr>\n",
       "      <td>big_array_bench.big_array_int_rev_1024_50000</td>\n",
       "      <td>4.10.0+ctf_off</td>\n",
       "      <td>0.055584</td>\n",
       "    </tr>\n",
       "    <tr>\n",
       "      <td>bytes_bench.bytes_concat_2000000</td>\n",
       "      <td>4.10.0+ctf_off</td>\n",
       "      <td>0.020742</td>\n",
       "    </tr>\n",
       "    <tr>\n",
       "      <td>test_lwt.200</td>\n",
       "      <td>4.10.0+ctf_off</td>\n",
       "      <td>0.016798</td>\n",
       "    </tr>\n",
       "    <tr>\n",
       "      <td>alloc.200_000</td>\n",
       "      <td>4.10.0+ctf_off</td>\n",
       "      <td>0.012051</td>\n",
       "    </tr>\n",
       "    <tr>\n",
       "      <td>...</td>\n",
       "      <td>...</td>\n",
       "      <td>...</td>\n",
       "    </tr>\n",
       "    <tr>\n",
       "      <td>lists.float-tuple_100000</td>\n",
       "      <td>4.10.0+ctf_off</td>\n",
       "      <td>-0.100667</td>\n",
       "    </tr>\n",
       "    <tr>\n",
       "      <td>lists.float_100000</td>\n",
       "      <td>4.10.0+ctf_off</td>\n",
       "      <td>-0.105751</td>\n",
       "    </tr>\n",
       "    <tr>\n",
       "      <td>lists.int-option-array_100000</td>\n",
       "      <td>4.10.0+ctf_off</td>\n",
       "      <td>-0.108173</td>\n",
       "    </tr>\n",
       "    <tr>\n",
       "      <td>lists.float-array_100000</td>\n",
       "      <td>4.10.0+ctf_off</td>\n",
       "      <td>-0.110060</td>\n",
       "    </tr>\n",
       "    <tr>\n",
       "      <td>lazylist.100000_100</td>\n",
       "      <td>4.10.0+ctf_off</td>\n",
       "      <td>-0.120593</td>\n",
       "    </tr>\n",
       "  </tbody>\n",
       "</table>\n",
       "<p>182 rows × 1 columns</p>\n",
       "</div>"
      ],
      "text/plain": [
       "                                                               time_secs\n",
       "name                                           variant                  \n",
       "big_array_bench.big_array_int32_rev_1024_50000 4.10.0+ctf_off   0.116804\n",
       "big_array_bench.big_array_int_rev_1024_50000   4.10.0+ctf_off   0.055584\n",
       "bytes_bench.bytes_concat_2000000               4.10.0+ctf_off   0.020742\n",
       "test_lwt.200                                   4.10.0+ctf_off   0.016798\n",
       "alloc.200_000                                  4.10.0+ctf_off   0.012051\n",
       "...                                                                  ...\n",
       "lists.float-tuple_100000                       4.10.0+ctf_off  -0.100667\n",
       "lists.float_100000                             4.10.0+ctf_off  -0.105751\n",
       "lists.int-option-array_100000                  4.10.0+ctf_off  -0.108173\n",
       "lists.float-array_100000                       4.10.0+ctf_off  -0.110060\n",
       "lazylist.100000_100                            4.10.0+ctf_off  -0.120593\n",
       "\n",
       "[182 rows x 1 columns]"
      ]
     },
     "execution_count": 15,
     "metadata": {},
     "output_type": "execute_result"
    }
   ],
   "source": [
    "data"
   ]
  },
  {
   "cell_type": "markdown",
   "metadata": {},
   "source": [
    "Above the results comparing `ctf` and `ctf_off` branches."
   ]
  },
  {
   "cell_type": "markdown",
   "metadata": {},
   "source": [
    "FIXME: more observations"
   ]
  },
  {
   "cell_type": "code",
   "execution_count": null,
   "metadata": {},
   "outputs": [],
   "source": []
  }
 ],
 "metadata": {
  "kernelspec": {
   "display_name": "Python 3",
   "language": "python",
   "name": "python3"
  },
  "language_info": {
   "codemirror_mode": {
    "name": "ipython",
    "version": 3
   },
   "file_extension": ".py",
   "mimetype": "text/x-python",
   "name": "python",
   "nbconvert_exporter": "python",
   "pygments_lexer": "ipython3",
   "version": "3.6.8"
  }
 },
 "nbformat": 4,
 "nbformat_minor": 2
}
